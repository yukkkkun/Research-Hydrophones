{
 "cells": [
  {
   "cell_type": "code",
   "execution_count": 727,
   "metadata": {},
   "outputs": [],
   "source": [
    "import csv\n",
    "import numpy as np\n",
    "from matplotlib import pyplot\n",
    "from sklearn import linear_model\n",
    "from sklearn.model_selection import cross_validate\n",
    "import pandas as pd\n",
    "import datetime as dt\n",
    "import math"
   ]
  },
  {
   "cell_type": "code",
   "execution_count": 728,
   "metadata": {},
   "outputs": [
    {
     "name": "stdout",
     "output_type": "stream",
     "text": [
      "['RECORD', 'Bat_Avg', 'Pit_WL_Avg', 'L_UR_Avg', 'L_UL_Avg', 'L_DR_Avg', 'L_DL_Avg', 'Load_Avg', 'Load_Avg_difference', 'WL_up_Avg', 'WL_cha_Avg', 'turb1000_Avg', 'turb4000_Avg', 'DiffVolt_Avg', 'hp_Tot(1)', 'hp_Tot(2)', 'hp_Tot(3)', 'hp_Tot(4)', 'hp_Tot(5)', 'hp_Tot(6)', 'vel_P_Tot', 'WL_FMR_Avg', 'hp_Tot(7)', 'hp_Tot(8)', 'hp_Tot(9)', 'hp_Tot(10)']\n"
     ]
    }
   ],
   "source": [
    "#Sort the data in the file\n",
    "#read a file\n",
    "file = open('Fukadani201607to10row.txt')\n",
    "# file = open('Fukadani2016JuneJulyselected.txt')\n",
    "\n",
    "Allfile = file.readlines()\n",
    "file.close()\n",
    "Allfilelisted = [0]*len(Allfile)\n",
    "\n",
    "#split each list at blanks\n",
    "for n in range(len(Allfile)):\n",
    "    Allfilelisted[n] = Allfile[n].split()\n",
    "\n",
    "#extract title\n",
    "Data = Allfilelisted[1:]\n",
    "Datatitle = Allfilelisted[0]\n",
    "\n",
    "\n",
    "#date and time are located in different places so put them together\n",
    "#datetime = date + time (datetime doesn't have a title)\n",
    "\n",
    "datetime = [0]*(len(Data))\n",
    "for n in range(len(Data)):\n",
    "    datetime[n] = Data[n][0] + Data[n][1]\n",
    "    \n",
    "# #Delite date+time from Data  because \"datetime\" is not numbers \n",
    "\n",
    "Data1 = [0]*(len(Data))\n",
    "for n in range(len(Data)):\n",
    "    Data1[n] = Data[n][2:]\n",
    "\n",
    "Data1title = Allfilelisted[0][1:]\n",
    "print(Data1title)"
   ]
  },
  {
   "cell_type": "code",
   "execution_count": 729,
   "metadata": {},
   "outputs": [],
   "source": [
    "#Start using pandas\n",
    "#The reason I just started pandas is just because I haven't known about pandas until few minites ago haha\n",
    "\n",
    "df = pd.DataFrame(Data1)\n",
    "df.columns = Data1title\n",
    "\n",
    "#Choose data we are gonna use\n",
    "#YOU SHOULD CHANGE HERE IF YOU WANNA SELECT DIFFERENT INPUT DATA OR ADD SOME DATA AS INPUTS\n",
    "# y_cols = ['Load_Avg_difference']\n",
    "y_cols = ['Load_Avg_difference']\n",
    "# X_cols = ['WL_FMR_Avg', 'hp_Tot(3)']\n",
    "# X_cols = ['Pit_WL_Avg', 'WL_up_Avg', 'WL_cha_Avg', 'turb1000_Avg', 'turb4000_Avg', 'DiffVolt_Avg', 'hp_Tot(1)', 'hp_Tot(2)', 'hp_Tot(3)', 'hp_Tot(4)', 'hp_Tot(5)', 'hp_Tot(6)', 'vel_P_Tot', 'WL_FMR_Avg',\n",
    "# 'hp_Tot(7)', 'hp_Tot(8)', 'hp_Tot(9)', 'hp_Tot(10)']\n",
    "# X_cols = ['Bat_Avg', 'WL_up_Avg', 'WL_cha_Avg', 'turb1000_Avg', 'turb4000_Avg', 'DiffVolt_Avg', 'hp_Tot(1)', 'hp_Tot(2)', 'hp_Tot(3)', 'hp_Tot(4)', 'hp_Tot(5)', 'hp_Tot(6)', 'vel_P_Tot', 'WL_FMR_Avg',\n",
    "# 'hp_Tot(7)', 'hp_Tot(8)', 'hp_Tot(9)', 'hp_Tot(10)']\n",
    "X_cols = ['WL_FMR_Avg','vel_P_Tot','hp_Tot(6)','hp_Tot(5)']\n",
    "# X_cols = ['hp_Tot(6)']\n",
    "# X_cols = [ 'hp_Tot(2)', 'hp_Tot(3)', 'hp_Tot(4)', 'hp_Tot(5)', 'hp_Tot(6)',  'WL_FMR_Avg','hp_Tot(7)', 'hp_Tot(8)', 'hp_Tot(9)', 'hp_Tot(10)']\n",
    "# X_cols = [ 'hp_Tot(5)', 'hp_Tot(6)', 'vel_P_Tot', 'WL_FMR_Avg','hp_Tot(7)']\n",
    "\n",
    "\n",
    "X = df[X_cols].values.astype('float')\n",
    "y = df[y_cols].values.astype('float')\n",
    "# #     X.rolling(window=5).mean()\n",
    "#     y.rolling(window=5).mean()\n",
    "\n"
   ]
  },
  {
   "cell_type": "code",
   "execution_count": 730,
   "metadata": {},
   "outputs": [],
   "source": [
    "# moving averages\n",
    "df_copy = pd.DataFrame(Data1)\n",
    "df_copy.columns = Data1title\n",
    "mavgs = 5\n",
    "\n",
    "df[X_cols] = df_copy[X_cols].rolling(window=mavgs).mean()\n",
    "df[y_cols] = df_copy[y_cols].rolling(window=mavgs).mean()\n",
    "# print(df[X_cols])\n",
    "# print(df[y_cols])\n"
   ]
  },
  {
   "cell_type": "code",
   "execution_count": 731,
   "metadata": {},
   "outputs": [
    {
     "name": "stdout",
     "output_type": "stream",
     "text": [
      "[95900, 84792, 47813, 2225]\n"
     ]
    }
   ],
   "source": [
    "#Delete data of when the pit gets cleared \n",
    "df[\"RECORD\"] = df[\"RECORD\"].values.astype('float')\n",
    "indic = []\n",
    "for i in range(len(df)):\n",
    "    if df[\"RECORD\"][i] == 0:\n",
    "        indic.append(i)\n",
    "# print(indic)\n",
    "indic.reverse()\n",
    "print(indic)\n",
    "df_new = df\n",
    "for i in range(len(indic)):\n",
    "    r =  range(indic[i]-101, indic[i]-1)\n",
    "#     print(indic[i]-101)\n",
    "#     print(indic[i]-1)\n",
    "    df_new = df_new.drop(r)"
   ]
  },
  {
   "cell_type": "code",
   "execution_count": 732,
   "metadata": {},
   "outputs": [],
   "source": [
    "#Cut data where pit weigh < 1000?500?\n",
    "df_new['Load_Avg'] = df_new['Load_Avg'].values.astype('float')\n",
    "df_cut1 = df_new[(df_new['Load_Avg'] > 200)&(df_new['Load_Avg'] < 1300)]\n",
    "\n",
    "# Cut data where pit load difference is out of margin of error\n",
    "df_cut2 = df_cut1[(df_cut1['Load_Avg_difference'] < 20)&(df_cut1['Load_Avg_difference'] > -5)]\n",
    "\n",
    "#Cut out NaN data\n",
    "df_final = df_cut2.dropna(how='any')"
   ]
  },
  {
   "cell_type": "code",
   "execution_count": 733,
   "metadata": {},
   "outputs": [],
   "source": [
    "X = df_final[X_cols].values.astype('float')\n",
    "y = df_final[y_cols].values.astype('float')"
   ]
  },
  {
   "cell_type": "code",
   "execution_count": 734,
   "metadata": {},
   "outputs": [
    {
     "data": {
      "text/plain": [
       "<matplotlib.collections.PathCollection at 0x1236ea27b70>"
      ]
     },
     "execution_count": 734,
     "metadata": {},
     "output_type": "execute_result"
    },
    {
     "data": {
      "image/png": "[encoded data removed]",
      "text/plain": [
       "<Figure size 576x432 with 1 Axes>"
      ]
     },
     "metadata": {
      "needs_background": "light"
     },
     "output_type": "display_data"
    }
   ],
   "source": [
    "#Take a look at the graph between y and X\n",
    "\n",
    "import matplotlib.pyplot as plt\n",
    "# Notebook出力には次の１行が必要\n",
    "%matplotlib inline\n",
    "\n",
    "# # Plot the data you select\n",
    "plt.figure(figsize=(8, 6))\n",
    "\n",
    "plt.scatter(y, X[:,0])\n",
    "\n",
    "# plt.figure(figsize=(8, 6))    # グラフのサイズ指定（この行は省略可）\n",
    "# # Plot all the data\n",
    "# for i in range(X.shape[1]): \n",
    "#     plt.scatter(y, X[:,i])\n"
   ]
  },
  {
   "cell_type": "code",
   "execution_count": 735,
   "metadata": {},
   "outputs": [],
   "source": [
    "#Devide data into Training set and test set\n",
    "#In Machine Learning course of coursera, I learned that I have to devide the data set into Training set, Cross calidation set,Test set.\n",
    "#But in this case I'll just follow the code that I found online. Probably I'll have to fix this part once I get to know much more about Machine Learning.\n",
    "from sklearn.model_selection import train_test_split\n",
    "\n",
    "X_train, X_test, y_train, y_test = train_test_split(X, y, test_size=.1, random_state=42)\n"
   ]
  },
  {
   "cell_type": "code",
   "execution_count": 736,
   "metadata": {},
   "outputs": [],
   "source": [
    "# data normalization\n",
    "from sklearn.preprocessing import StandardScaler\n",
    "scaler = StandardScaler()\n",
    "scaler.fit(X_train)\n",
    "\n",
    "X_train = scaler.transform(X_train)\n",
    "X_test = scaler.transform(X_test)"
   ]
  },
  {
   "cell_type": "code",
   "execution_count": 737,
   "metadata": {
    "scrolled": true
   },
   "outputs": [
    {
     "name": "stderr",
     "output_type": "stream",
     "text": [
      "C:\\Users\\yutak\\Anaconda3\\lib\\site-packages\\sklearn\\ensemble\\forest.py:248: FutureWarning: The default value of n_estimators will change from 10 in version 0.20 to 100 in 0.22.\n",
      "  \"10 in version 0.20 to 100 in 0.22.\", FutureWarning)\n"
     ]
    },
    {
     "data": {
      "text/plain": [
       "RandomForestRegressor(bootstrap=True, criterion='mse', max_depth=None,\n",
       "           max_features='auto', max_leaf_nodes=None,\n",
       "           min_impurity_decrease=0.0, min_impurity_split=None,\n",
       "           min_samples_leaf=1, min_samples_split=2,\n",
       "           min_weight_fraction_leaf=0.0, n_estimators=10, n_jobs=None,\n",
       "           oob_score=False, random_state=None, verbose=0, warm_start=False)"
      ]
     },
     "execution_count": 737,
     "metadata": {},
     "output_type": "execute_result"
    }
   ],
   "source": [
    "# train the parameters with regression model\n",
    "from sklearn.ensemble import RandomForestRegressor\n",
    "\n",
    "model = RandomForestRegressor()\n",
    "model.fit(X_train, y_train.ravel())"
   ]
  },
  {
   "cell_type": "code",
   "execution_count": 738,
   "metadata": {},
   "outputs": [
    {
     "name": "stdout",
     "output_type": "stream",
     "text": [
      "0.8192939929440716\n"
     ]
    }
   ],
   "source": [
    "#Score\n",
    "\n",
    "print(model.score(X_test,y_test))"
   ]
  },
  {
   "cell_type": "code",
   "execution_count": 739,
   "metadata": {
    "scrolled": true
   },
   "outputs": [
    {
     "data": {
      "text/plain": [
       "<matplotlib.axes._subplots.AxesSubplot at 0x123032a2a90>"
      ]
     },
     "execution_count": 739,
     "metadata": {},
     "output_type": "execute_result"
    },
    {
     "data": {
      "image/png": "[encoded data removed]",
      "text/plain": [
       "<Figure size 1080x216 with 1 Axes>"
      ]
     },
     "metadata": {
      "needs_background": "light"
     },
     "output_type": "display_data"
    }
   ],
   "source": [
    "# Results\n",
    "result = model.predict(X_test)\n",
    "#flatten y_test to applay the data to a graph\n",
    "y_test_graph = y_test.flatten()\n",
    "#\n",
    "df_result = pd.DataFrame({\"y_test\":y_test_graph,\"result\":result})\n",
    "\n",
    "#\n",
    "%matplotlib inline\n",
    "import matplotlib\n",
    "import matplotlib.pyplot as plt\n",
    "\n",
    "# Draw graph\n",
    "df_result.plot(figsize=(15, 3))"
   ]
  },
  {
   "cell_type": "code",
   "execution_count": 740,
   "metadata": {
    "scrolled": true
   },
   "outputs": [],
   "source": [
    "# df_result[6960:7300].plot(figsize=(15, 3))"
   ]
  },
  {
   "cell_type": "code",
   "execution_count": 741,
   "metadata": {},
   "outputs": [
    {
     "name": "stdout",
     "output_type": "stream",
     "text": [
      "1   hp_Tot(6)   0.5023965823432607\n",
      "2   hp_Tot(7)   0.20749077616440986\n",
      "3   hp_Tot(5)   0.136744916520008\n",
      "4   WL_FMR_Avg   0.07694987162653513\n",
      "5   vel_P_Tot   0.07641785334578635\n"
     ]
    },
    {
     "data": {
      "image/png": "[encoded data removed]",
      "text/plain": [
       "<Figure size 432x288 with 1 Axes>"
      ]
     },
     "metadata": {
      "needs_background": "light"
     },
     "output_type": "display_data"
    }
   ],
   "source": [
    "#\n",
    "feature = model.feature_importances_\n",
    "\n",
    "#特徴量の重要度を上から順に出力する\n",
    "f = pd.DataFrame({'number': range(0, len(feature)),\n",
    "             'feature': feature[:]})\n",
    "f2 = f.sort_values('feature',ascending=False)\n",
    "f3 = f2.loc[:, 'number']\n",
    "\n",
    "#Name of the features\n",
    "dfX = pd.DataFrame(X)\n",
    "dfX.columns = X_cols\n",
    "label = dfX.columns[0:]\n",
    "\n",
    "#arrange the features in order of importance\n",
    "indices = np.argsort(feature)[::-1]\n",
    "\n",
    "for i in range(len(feature)):\n",
    "    print( str(i + 1) + \"   \" + str(label[indices[i]]) + \"   \" + str(feature[indices[i]]))\n",
    "\n",
    "          \n",
    "import matplotlib\n",
    "import matplotlib.pyplot as plt\n",
    "plt.title('Feature Importance')\n",
    "plt.bar(range(len(feature)),feature[indices], color='lightblue', align='center')\n",
    "plt.xticks(range(len(feature)), label[indices], rotation=90)\n",
    "plt.xlim([-1, len(feature)])\n",
    "plt.tight_layout()\n",
    "plt.show()"
   ]
  }
 ],
 "metadata": {
  "kernelspec": {
   "display_name": "Python 3",
   "language": "python",
   "name": "python3"
  },
  "language_info": {
   "codemirror_mode": {
    "name": "ipython",
    "version": 3
   },
   "file_extension": ".py",
   "mimetype": "text/x-python",
   "name": "python",
   "nbconvert_exporter": "python",
   "pygments_lexer": "ipython3",
   "version": "3.7.3"
  }
 },
 "nbformat": 4,
 "nbformat_minor": 2
}
