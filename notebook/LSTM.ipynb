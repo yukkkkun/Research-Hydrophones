{
 "cells": [
  {
   "cell_type": "code",
   "execution_count": 1,
   "metadata": {},
   "outputs": [
    {
     "name": "stderr",
     "output_type": "stream",
     "text": [
      "Using TensorFlow backend.\n"
     ]
    }
   ],
   "source": [
    "# coding: utf-8\n",
    "import os\n",
    "import numpy as np\n",
    "import matplotlib.pyplot as plt\n",
    "import pandas as pd\n",
    "from keras.models import Sequential\n",
    "from keras.layers import Dense, Activation\n",
    "from keras.layers.recurrent import LSTM\n",
    "from keras import optimizers\n",
    "from keras.callbacks import ModelCheckpoint\n",
    "from keras import metrics"
   ]
  },
  {
   "cell_type": "code",
   "execution_count": 50,
   "metadata": {},
   "outputs": [],
   "source": [
    "#Sort the data in the file\n",
    "#read a file\n",
    "def read_file():\n",
    "    #最初のカラムである年月日をindexとし、\"parse_dates=True\"とすることでその値を日付型にします。\n",
    "    df = pd.read_csv('Precipitation_WL201803to201812.csv', header=0,index_col=0,parse_dates=True)\n",
    "    return df"
   ]
  },
  {
   "cell_type": "code",
   "execution_count": 52,
   "metadata": {},
   "outputs": [
    {
     "name": "stdout",
     "output_type": "stream",
     "text": [
      "                      [station]precipitation(mm)  [Ashiaraidani]velocity(m/s)  \\\n",
      "Time                                                                            \n",
      "2018-03-26 00:00:00                          0.0                         2.37   \n",
      "2018-03-26 00:10:00                          0.0                         2.37   \n",
      "2018-03-26 00:20:00                          0.0                         2.37   \n",
      "2018-03-26 00:30:00                          0.0                         2.36   \n",
      "2018-03-26 00:40:00                          0.0                         2.37   \n",
      "2018-03-26 00:50:00                          0.0                         2.37   \n",
      "2018-03-26 01:00:00                          0.0                         2.36   \n",
      "2018-03-26 01:10:00                          0.0                         2.37   \n",
      "2018-03-26 01:20:00                          0.0                         2.37   \n",
      "2018-03-26 01:30:00                          0.0                         2.37   \n",
      "2018-03-26 01:40:00                          0.0                         2.37   \n",
      "2018-03-26 01:50:00                          0.0                         2.37   \n",
      "2018-03-26 02:00:00                          0.0                         2.36   \n",
      "2018-03-26 02:10:00                          0.0                         2.36   \n",
      "2018-03-26 02:20:00                          0.0                         2.36   \n",
      "2018-03-26 02:30:00                          0.0                         2.36   \n",
      "2018-03-26 02:40:00                          0.0                         2.36   \n",
      "2018-03-26 02:50:00                          0.0                         2.36   \n",
      "2018-03-26 03:00:00                          0.0                         2.36   \n",
      "2018-03-26 03:10:00                          0.0                         2.36   \n",
      "2018-03-26 03:20:00                          0.0                         2.36   \n",
      "2018-03-26 03:30:00                          0.0                         2.36   \n",
      "2018-03-26 03:40:00                          0.0                         2.36   \n",
      "2018-03-26 03:50:00                          0.0                         2.36   \n",
      "2018-03-26 04:00:00                          0.0                         2.36   \n",
      "2018-03-26 04:10:00                          0.0                         2.37   \n",
      "2018-03-26 04:20:00                          0.0                         2.36   \n",
      "2018-03-26 04:30:00                          0.0                         2.36   \n",
      "2018-03-26 04:40:00                          0.0                         2.36   \n",
      "2018-03-26 04:50:00                          0.0                         2.36   \n",
      "...                                          ...                          ...   \n",
      "2018-12-31 19:10:00                          0.0                         1.93   \n",
      "2018-12-31 19:20:00                          0.0                         1.93   \n",
      "2018-12-31 19:30:00                          0.0                         1.92   \n",
      "2018-12-31 19:40:00                          0.0                         1.92   \n",
      "2018-12-31 19:50:00                          0.0                         1.93   \n",
      "2018-12-31 20:00:00                          0.0                         1.92   \n",
      "2018-12-31 20:10:00                          0.0                         1.92   \n",
      "2018-12-31 20:20:00                          0.0                         1.92   \n",
      "2018-12-31 20:30:00                          0.0                         1.92   \n",
      "2018-12-31 20:40:00                          0.0                         1.92   \n",
      "2018-12-31 20:50:00                          0.0                         1.92   \n",
      "2018-12-31 21:00:00                          0.0                         1.92   \n",
      "2018-12-31 21:10:00                          0.0                         1.93   \n",
      "2018-12-31 21:20:00                          0.0                         1.93   \n",
      "2018-12-31 21:30:00                          0.0                         1.93   \n",
      "2018-12-31 21:40:00                          0.0                         1.92   \n",
      "2018-12-31 21:50:00                          0.0                         1.92   \n",
      "2018-12-31 22:00:00                          0.0                         1.93   \n",
      "2018-12-31 22:10:00                          0.0                         1.93   \n",
      "2018-12-31 22:20:00                          0.0                         1.92   \n",
      "2018-12-31 22:30:00                          0.0                         1.92   \n",
      "2018-12-31 22:40:00                          0.0                         1.92   \n",
      "2018-12-31 22:50:00                          0.0                         1.93   \n",
      "2018-12-31 23:00:00                          0.0                         1.92   \n",
      "2018-12-31 23:10:00                          0.0                         1.92   \n",
      "2018-12-31 23:20:00                          0.0                         1.92   \n",
      "2018-12-31 23:30:00                          0.0                         1.92   \n",
      "2018-12-31 23:40:00                          0.0                         1.92   \n",
      "2018-12-31 23:50:00                          0.0                         1.92   \n",
      "2019-01-01 00:00:00                          0.0                         1.92   \n",
      "\n",
      "                     [Ashiaraidani]water_level(cm)  \n",
      "Time                                                \n",
      "2018-03-26 00:00:00                            4.2  \n",
      "2018-03-26 00:10:00                            4.2  \n",
      "2018-03-26 00:20:00                            4.2  \n",
      "2018-03-26 00:30:00                            4.2  \n",
      "2018-03-26 00:40:00                            4.3  \n",
      "2018-03-26 00:50:00                            4.3  \n",
      "2018-03-26 01:00:00                            4.2  \n",
      "2018-03-26 01:10:00                            4.3  \n",
      "2018-03-26 01:20:00                            4.2  \n",
      "2018-03-26 01:30:00                            4.2  \n",
      "2018-03-26 01:40:00                            4.2  \n",
      "2018-03-26 01:50:00                            4.2  \n",
      "2018-03-26 02:00:00                            4.2  \n",
      "2018-03-26 02:10:00                            4.2  \n",
      "2018-03-26 02:20:00                            4.2  \n",
      "2018-03-26 02:30:00                            4.3  \n",
      "2018-03-26 02:40:00                            4.3  \n",
      "2018-03-26 02:50:00                            4.3  \n",
      "2018-03-26 03:00:00                            4.3  \n",
      "2018-03-26 03:10:00                            4.2  \n",
      "2018-03-26 03:20:00                            4.3  \n",
      "2018-03-26 03:30:00                            4.2  \n",
      "2018-03-26 03:40:00                            4.2  \n",
      "2018-03-26 03:50:00                            4.2  \n",
      "2018-03-26 04:00:00                            4.2  \n",
      "2018-03-26 04:10:00                            4.2  \n",
      "2018-03-26 04:20:00                            4.2  \n",
      "2018-03-26 04:30:00                            4.2  \n",
      "2018-03-26 04:40:00                            4.2  \n",
      "2018-03-26 04:50:00                            4.2  \n",
      "...                                            ...  \n",
      "2018-12-31 19:10:00                            4.7  \n",
      "2018-12-31 19:20:00                            4.7  \n",
      "2018-12-31 19:30:00                            4.7  \n",
      "2018-12-31 19:40:00                            4.7  \n",
      "2018-12-31 19:50:00                            4.7  \n",
      "2018-12-31 20:00:00                            4.7  \n",
      "2018-12-31 20:10:00                            4.7  \n",
      "2018-12-31 20:20:00                            4.7  \n",
      "2018-12-31 20:30:00                            4.8  \n",
      "2018-12-31 20:40:00                            4.7  \n",
      "2018-12-31 20:50:00                            4.7  \n",
      "2018-12-31 21:00:00                            4.7  \n",
      "2018-12-31 21:10:00                            4.7  \n",
      "2018-12-31 21:20:00                            4.8  \n",
      "2018-12-31 21:30:00                            4.8  \n",
      "2018-12-31 21:40:00                            4.8  \n",
      "2018-12-31 21:50:00                            4.8  \n",
      "2018-12-31 22:00:00                            4.7  \n",
      "2018-12-31 22:10:00                            4.8  \n",
      "2018-12-31 22:20:00                            4.7  \n",
      "2018-12-31 22:30:00                            4.7  \n",
      "2018-12-31 22:40:00                            4.8  \n",
      "2018-12-31 22:50:00                            4.7  \n",
      "2018-12-31 23:00:00                            4.7  \n",
      "2018-12-31 23:10:00                            4.6  \n",
      "2018-12-31 23:20:00                            4.6  \n",
      "2018-12-31 23:30:00                            4.6  \n",
      "2018-12-31 23:40:00                            4.6  \n",
      "2018-12-31 23:50:00                            4.6  \n",
      "2019-01-01 00:00:00                            4.7  \n",
      "\n",
      "[40166 rows x 3 columns]\n"
     ]
    }
   ],
   "source": [
    "# df = read_file()\n",
    "# print(df)"
   ]
  },
  {
   "cell_type": "code",
   "execution_count": 58,
   "metadata": {},
   "outputs": [
    {
     "name": "stderr",
     "output_type": "stream",
     "text": [
      "C:\\Users\\yutak\\Anaconda3\\lib\\site-packages\\ipykernel_launcher.py:8: DeprecationWarning: \n",
      ".ix is deprecated. Please use\n",
      ".loc for label based indexing or\n",
      ".iloc for positional indexing\n",
      "\n",
      "See the documentation here:\n",
      "http://pandas.pydata.org/pandas-docs/stable/indexing.html#ix-indexer-is-deprecated\n",
      "  \n"
     ]
    }
   ],
   "source": [
    "# 扱う特徴量\n",
    "FEATURE_VALUE = [\" [station]precipitation(mm)\"] # Precipitation(per 10min)\n",
    "# 次元数\n",
    "DIMENSION = len(FEATURE_VALUE)\n",
    "# 気象データを取得\n",
    "df_data = read_file()\n",
    "# 学習用データを取得(日付順にソート)\n",
    "df_prec = df_data.ix['2018-03-26 00:00:00':'2019-01-01 00:00:00', FEATURE_VALUE]\n",
    "df_prec = df_prec.sort_index()\n",
    "# 欠損値のある行を取り除く（無いけどとりあえず\n",
    "dd_prec = df_prec.dropna()\n"
   ]
  },
  {
   "cell_type": "code",
   "execution_count": 30,
   "metadata": {},
   "outputs": [
    {
     "name": "stdout",
     "output_type": "stream",
     "text": [
      "[['3/26/2018 0:00' 0.0 2.37 4.2]\n",
      " ['3/26/2018 0:10' 0.0 2.37 4.2]\n",
      " ['3/26/2018 0:20' 0.0 2.37 4.2]\n",
      " ...\n",
      " ['12/31/2018 23:40' 0.0 1.92 4.6]\n",
      " ['12/31/2018 23:50' 0.0 1.92 4.6]\n",
      " ['1/1/2019 0:00' 0.0 1.92 4.7]]\n"
     ]
    },
    {
     "name": "stderr",
     "output_type": "stream",
     "text": [
      "C:\\Users\\yutak\\Anaconda3\\lib\\site-packages\\ipykernel_launcher.py:5: FutureWarning: Method .as_matrix will be removed in a future version. Use .values instead.\n",
      "  \"\"\"\n"
     ]
    }
   ],
   "source": [
    "# モデルに読み込ませるデータを生成する\n",
    "# def generate_data(data, length_per_unit, dimension):\n",
    "\n",
    "    # DataFrame→array変換\n",
    "data_array = data.as_matrix()\n",
    "print(data_array)\n",
    "# 時系列データを入れる箱\n",
    "sequences = []\n",
    "# 正解データを入れる箱\n",
    "target = []\n",
    "# 正解データの日付を入れる箱\n",
    "target_date = []\n",
    "\n",
    "# 一グループごとに時系列データと正解データをセットしていく\n",
    "for i in range(0, data_array.shape[0] - length_per_unit):\n",
    "    sequences.append(data_array[i:i + length_per_unit])\n",
    "    target.append(data_array[i + length_per_unit])\n",
    "    target_date.append(data[i + length_per_unit: i + length_per_unit + 1].index.strftime('%Y/%m/%d'))\n",
    "\n",
    "#     # 時系列データを成形\n",
    "#     X = np.array(sequences).reshape(len(sequences), length_per_unit, dimension)\n",
    "#     # 正解データを成形\n",
    "#     Y = np.array(target).reshape(len(sequences), 1)\n",
    "#     # 正解データの日付データを成形\n",
    "#     Y_date = np.array(target_date).reshape(len(sequences), 1)\n",
    "\n",
    "#     return (X, Y, Y_date)\n",
    "\n",
    "# print()"
   ]
  },
  {
   "cell_type": "code",
   "execution_count": 64,
   "metadata": {},
   "outputs": [],
   "source": [
    "#Start using pandas\n",
    "#The reason I just started pandas is just because I haven't known about pandas until few minites ago haha\n",
    "\n",
    "df = pd.DataFrame(Data1)\n",
    "df.columns = Data1title\n",
    "\n",
    "#Choose data we are gonna use\n",
    "#YOU SHOULD CHANGE HERE IF YOU WANNA SELECT DIFFERENT INPUT DATA OR ADD SOME DATA AS INPUTS\n",
    "# y_cols = ['Load_Avg_difference']\n",
    "y_cols = ['Load_Avg_difference_mean(5min)']\n",
    "# X_cols = ['WL_FMR_Avg', 'hp_Tot(3)']\n",
    "# X_cols = ['Bat_Avg', 'Pit_WL_Avg', 'L_UR_Avg', 'L_UL_Avg', 'L_DR_Avg', 'L_DL_Avg', 'WL_up_Avg', 'WL_cha_Avg', 'turb1000_Avg', 'turb4000_Avg', 'DiffVolt_Avg', 'hp_Tot(1)', 'hp_Tot(2)', 'hp_Tot(3)', 'hp_Tot(4)', 'hp_Tot(5)', 'hp_Tot(6)', 'vel_P_Tot', 'WL_FMR_Avg',\n",
    "# 'hp_Tot(7)', 'hp_Tot(8)', 'hp_Tot(9)', 'hp_Tot(10)']\n",
    "X_cols = ['hp_Tot(6)','hp_Tot(5)']\n",
    "# X_cols = ['hp_Tot(5)']\n",
    "# X_cols = [ 'hp_Tot(2)', 'hp_Tot(3)', 'hp_Tot(4)', 'hp_Tot(5)', 'hp_Tot(6)', 'vel_P_Tot', 'WL_FMR_Avg','hp_Tot(7)', 'hp_Tot(8)', 'hp_Tot(9)', 'hp_Tot(10)','WL_FMR_Avg']\n",
    "\n",
    "X = df[X_cols].values.astype('float')\n",
    "y = df[y_cols].values.astype('float')\n"
   ]
  },
  {
   "cell_type": "code",
   "execution_count": 65,
   "metadata": {},
   "outputs": [],
   "source": [
    "#Devide data into Training set and test set\n",
    "#In Machine Learning course of coursera, I learned that I have to devide the data set into Training set, Cross calidation set,Test set.\n",
    "#But in this case I'll just follow the code that I found online. Probably I'll have to fix this part once I get to know much more about Machine Learning.\n",
    "from sklearn.model_selection import train_test_split\n",
    "\n",
    "X_train, X_test, y_train, y_test = train_test_split(X, y, test_size=.1, random_state=42)\n"
   ]
  },
  {
   "cell_type": "code",
   "execution_count": 66,
   "metadata": {},
   "outputs": [],
   "source": [
    "# data normalization\n",
    "from sklearn.preprocessing import StandardScaler\n",
    "scaler = StandardScaler()\n",
    "scaler.fit(X_train)\n",
    "\n",
    "X_train = scaler.transform(X_train)\n",
    "X_test = scaler.transform(X_test)"
   ]
  },
  {
   "cell_type": "code",
   "execution_count": 67,
   "metadata": {
    "scrolled": true
   },
   "outputs": [
    {
     "name": "stderr",
     "output_type": "stream",
     "text": [
      "C:\\Users\\yutak\\Anaconda3\\lib\\site-packages\\sklearn\\ensemble\\forest.py:248: FutureWarning: The default value of n_estimators will change from 10 in version 0.20 to 100 in 0.22.\n",
      "  \"10 in version 0.20 to 100 in 0.22.\", FutureWarning)\n"
     ]
    },
    {
     "data": {
      "text/plain": [
       "RandomForestRegressor(bootstrap=True, criterion='mse', max_depth=None,\n",
       "           max_features='auto', max_leaf_nodes=None,\n",
       "           min_impurity_decrease=0.0, min_impurity_split=None,\n",
       "           min_samples_leaf=1, min_samples_split=2,\n",
       "           min_weight_fraction_leaf=0.0, n_estimators=10, n_jobs=None,\n",
       "           oob_score=False, random_state=None, verbose=0, warm_start=False)"
      ]
     },
     "execution_count": 67,
     "metadata": {},
     "output_type": "execute_result"
    }
   ],
   "source": [
    "# train the parameters with regression model\n",
    "from sklearn.ensemble import RandomForestRegressor\n",
    "\n",
    "model = RandomForestRegressor()\n",
    "model.fit(X_train, y_train.ravel())"
   ]
  },
  {
   "cell_type": "code",
   "execution_count": 68,
   "metadata": {},
   "outputs": [
    {
     "name": "stdout",
     "output_type": "stream",
     "text": [
      "0.7675417254715623\n"
     ]
    }
   ],
   "source": [
    "#Score\n",
    "\n",
    "print(model.score(X_test,y_test))"
   ]
  },
  {
   "cell_type": "code",
   "execution_count": 52,
   "metadata": {
    "scrolled": true
   },
   "outputs": [
    {
     "data": {
      "text/plain": [
       "<matplotlib.axes._subplots.AxesSubplot at 0x1ebc0f6abe0>"
      ]
     },
     "execution_count": 52,
     "metadata": {},
     "output_type": "execute_result"
    },
    {
     "data": {
      "image/png": "[encoded data removed]",
      "text/plain": [
       "<Figure size 1080x216 with 1 Axes>"
      ]
     },
     "metadata": {
      "needs_background": "light"
     },
     "output_type": "display_data"
    }
   ],
   "source": [
    "# Results\n",
    "result = model.predict(X_test)\n",
    "#flatten y_test to applay the data to a graph\n",
    "y_test_graph = y_test.flatten()\n",
    "#\n",
    "df_result = pd.DataFrame({\"y_test\":y_test_graph,\"result\":result})\n",
    "\n",
    "#\n",
    "%matplotlib inline\n",
    "import matplotlib\n",
    "import matplotlib.pyplot as plt\n",
    "\n",
    "# Draw graph\n",
    "df_result.plot(figsize=(15, 3))"
   ]
  },
  {
   "cell_type": "code",
   "execution_count": 69,
   "metadata": {},
   "outputs": [
    {
     "data": {
      "text/plain": [
       "<matplotlib.axes._subplots.AxesSubplot at 0x1ebbf839c18>"
      ]
     },
     "execution_count": 69,
     "metadata": {},
     "output_type": "execute_result"
    },
    {
     "data": {
      "image/png": "[encoded data removed]",
      "text/plain": [
       "<Figure size 1080x216 with 1 Axes>"
      ]
     },
     "metadata": {
      "needs_background": "light"
     },
     "output_type": "display_data"
    }
   ],
   "source": [
    "df_result[500:700].plot(figsize=(15, 3))"
   ]
  },
  {
   "cell_type": "code",
   "execution_count": null,
   "metadata": {},
   "outputs": [],
   "source": []
  },
  {
   "cell_type": "code",
   "execution_count": 54,
   "metadata": {},
   "outputs": [
    {
     "name": "stdout",
     "output_type": "stream",
     "text": [
      "1   hp_Tot(6)   0.5891305944516716\n",
      "2   hp_Tot(5)   0.41086940554832846\n"
     ]
    },
    {
     "data": {
      "image/png": "[encoded data removed]",
      "text/plain": [
       "<Figure size 432x288 with 1 Axes>"
      ]
     },
     "metadata": {
      "needs_background": "light"
     },
     "output_type": "display_data"
    }
   ],
   "source": [
    "#\n",
    "feature = model.feature_importances_\n",
    "\n",
    "#特徴量の重要度を上から順に出力する\n",
    "f = pd.DataFrame({'number': range(0, len(feature)),\n",
    "             'feature': feature[:]})\n",
    "f2 = f.sort_values('feature',ascending=False)\n",
    "f3 = f2.loc[:, 'number']\n",
    "\n",
    "#Name of the features\n",
    "dfX = pd.DataFrame(X)\n",
    "dfX.columns = X_cols\n",
    "label = dfX.columns[0:]\n",
    "\n",
    "#arrange the features in order of importance\n",
    "indices = np.argsort(feature)[::-1]\n",
    "\n",
    "for i in range(len(feature)):\n",
    "    print( str(i + 1) + \"   \" + str(label[indices[i]]) + \"   \" + str(feature[indices[i]]))\n",
    "\n",
    "          \n",
    "import matplotlib\n",
    "import matplotlib.pyplot as plt\n",
    "plt.title('Feature Importance')\n",
    "plt.bar(range(len(feature)),feature[indices], color='lightblue', align='center')\n",
    "plt.xticks(range(len(feature)), label[indices], rotation=90)\n",
    "plt.xlim([-1, len(feature)])\n",
    "plt.tight_layout()\n",
    "plt.show()"
   ]
  },
  {
   "cell_type": "code",
   "execution_count": 99,
   "metadata": {
    "scrolled": true
   },
   "outputs": [
    {
     "data": {
      "text/plain": [
       "['RECORD',\n",
       " 'Bat_Avg',\n",
       " 'Pit_WL_Avg',\n",
       " 'L_UR_Avg',\n",
       " 'L_UL_Avg',\n",
       " 'L_DR_Avg',\n",
       " 'L_DL_Avg',\n",
       " 'Load_Avg',\n",
       " 'Load_Avg_difference',\n",
       " 'Load_Avg_difference_mean(5min)',\n",
       " 'WL_up_Avg',\n",
       " 'WL_cha_Avg',\n",
       " 'turb1000_Avg',\n",
       " 'turb4000_Avg',\n",
       " 'DiffVolt_Avg',\n",
       " 'hp_Tot(1)',\n",
       " 'hp_Tot(2)',\n",
       " 'hp_Tot(3)',\n",
       " 'hp_Tot(4)',\n",
       " 'hp_Tot(5)',\n",
       " 'hp_Tot(6)',\n",
       " 'vel_P_Tot',\n",
       " 'WL_FMR_Avg',\n",
       " 'hp_Tot(7)',\n",
       " 'hp_Tot(8)',\n",
       " 'hp_Tot(9)',\n",
       " 'hp_Tot(10)']"
      ]
     },
     "execution_count": 99,
     "metadata": {},
     "output_type": "execute_result"
    }
   ],
   "source": [
    "Data1title"
   ]
  },
  {
   "cell_type": "code",
   "execution_count": 86,
   "metadata": {},
   "outputs": [
    {
     "data": {
      "text/plain": [
       "Index(['hp_Tot(6)'], dtype='object')"
      ]
     },
     "execution_count": 86,
     "metadata": {},
     "output_type": "execute_result"
    }
   ],
   "source": [
    "label"
   ]
  }
 ],
 "metadata": {
  "kernelspec": {
   "display_name": "Python 3",
   "language": "python",
   "name": "python3"
  },
  "language_info": {
   "codemirror_mode": {
    "name": "ipython",
    "version": 3
   },
   "file_extension": ".py",
   "mimetype": "text/x-python",
   "name": "python",
   "nbconvert_exporter": "python",
   "pygments_lexer": "ipython3",
   "version": "3.6.7"
  }
 },
 "nbformat": 4,
 "nbformat_minor": 2
}
