{
 "cells": [
  {
   "cell_type": "code",
   "execution_count": 1,
   "metadata": {},
   "outputs": [],
   "source": [
    "import cv2\n",
    "import numpy as np\n",
    "import matplotlib.pyplot as plt\n",
    "import os"
   ]
  },
  {
   "cell_type": "code",
   "execution_count": 5,
   "metadata": {},
   "outputs": [
    {
     "data": {
      "text/plain": [
       "'C:\\\\Users\\\\user\\\\OneDrive - Kyoto University\\\\shared-Yutaka\\\\Research\\\\Hydrophone'"
      ]
     },
     "execution_count": 5,
     "metadata": {},
     "output_type": "execute_result"
    }
   ],
   "source": [
    "os.getcwd() "
   ]
  },
  {
   "cell_type": "code",
   "execution_count": 2,
   "metadata": {},
   "outputs": [
    {
     "name": "stdout",
     "output_type": "stream",
     "text": [
      "['./scatter_graphs/Bat_Avg_10min.png', './scatter_graphs/Bat_Avg_20min.png', './scatter_graphs/Bat_Avg_30min.png', './scatter_graphs/Bat_Avg_40min.png', './scatter_graphs/Bat_Avg_50min.png', './scatter_graphs/Bat_Avg_60min.png', './scatter_graphs/Bat_Avg_70min.png', './scatter_graphs/Bat_Avg_80min.png', './scatter_graphs/Bat_Avg_90min.png', './scatter_graphs/Corrected_with_left_Tot(1)_10min.png']\n",
      "['Bat_Avg_10min', 'Bat_Avg_20min', 'Bat_Avg_30min', 'Bat_Avg_40min', 'Bat_Avg_50min', 'Bat_Avg_60min', 'Bat_Avg_70min', 'Bat_Avg_80min', 'Bat_Avg_90min', 'Corrected_with_left_Tot(1)_10min']\n"
     ]
    }
   ],
   "source": [
    "GRAPH_DIR = './scatter_graphs/'\n",
    "scatter_graphs = [GRAPH_DIR+i for i in os.listdir(GRAPH_DIR) if '.png' in i] # use this for full dataset\n",
    "print(scatter_graphs[:10])\n",
    "scatter_graphs_name = [i[0:-4] for i in os.listdir(GRAPH_DIR) if '.png' in i]\n",
    "print(scatter_graphs_name[:10])"
   ]
  },
  {
   "cell_type": "code",
   "execution_count": 3,
   "metadata": {},
   "outputs": [],
   "source": [
    "#１０分～９０分間隔のグラフを縦にくっつけていく\n",
    "for divition in range(0, len(scatter_graphs), 9):\n",
    "    from_ten_to_ninety = scatter_graphs[divition:divition+9]\n",
    "    \n",
    "    list_im = [0]*9\n",
    "    for i, name_of_graph in enumerate(from_ten_to_ninety):\n",
    "        list_im[i] = cv2.imread(name_of_graph)\n",
    "    #     print(list_im[i-1])\n",
    "#         print(i)\n",
    "\n",
    "    im_v = cv2.vconcat([list_im[0], list_im[1], list_im[2], list_im[3], list_im[4], list_im[5],list_im[6], list_im[7], list_im[8]])\n",
    "    #[17:-10]は、scatter_graphの中のstringのいらないところをカットするため\n",
    "    cv2.imwrite(GRAPH_DIR + 'concat/{}.png'.format(scatter_graphs[divition][17:-10]), im_v)\n",
    "#     print(scatter_graphs[divition][17:-10])\n",
    "\n"
   ]
  },
  {
   "cell_type": "code",
   "execution_count": 18,
   "metadata": {},
   "outputs": [
    {
     "name": "stdout",
     "output_type": "stream",
     "text": [
      "['./scatter_graphs/concat/Bat_Avg.png', './scatter_graphs/concat/Corrected_with_left_Tot(1).png', './scatter_graphs/concat/Corrected_with_left_Tot(2).png', './scatter_graphs/concat/Corrected_with_left_Tot(3).png', './scatter_graphs/concat/Corrected_with_left_Tot(4).png', './scatter_graphs/concat/Corrected_with_left_Tot(5).png', './scatter_graphs/concat/Corrected_with_left_Tot(6).png', './scatter_graphs/concat/Corrected_with_left_Tot(7).png', './scatter_graphs/concat/Corrected_with_left_Tot(8).png', './scatter_graphs/concat/Corrected_with_left_Tot(9).png']\n",
      "['Bat_Avg', 'Corrected_with_left_Tot(1)', 'Corrected_with_left_Tot(2)', 'Corrected_with_left_Tot(3)', 'Corrected_with_left_Tot(4)', 'Corrected_with_left_Tot(5)', 'Corrected_with_left_Tot(6)', 'Corrected_with_left_Tot(7)', 'Corrected_with_left_Tot(8)', 'Corrected_with_left_Tot(9)']\n"
     ]
    }
   ],
   "source": [
    "GRAPH_DIR = './scatter_graphs/concat/'\n",
    "graph_concat = [GRAPH_DIR+i for i in os.listdir(GRAPH_DIR) if '.png' in i] # use this for full dataset\n",
    "print(graph_concat[:10])\n",
    "scatter_graphs_name = [i[0:-4] for i in os.listdir(GRAPH_DIR) if '.png' in i]\n",
    "print(scatter_graphs_name[:10])"
   ]
  },
  {
   "cell_type": "code",
   "execution_count": 19,
   "metadata": {},
   "outputs": [],
   "source": [
    "#１つずつグラフを付け加えていく\n",
    "def concat_add(dir_added, dir_add):\n",
    "    im_added = cv2.imread(dir_added)\n",
    "    im_add = cv2.imread(dir_add)\n",
    "    im_v = cv2.hconcat([im_added, im_add])\n",
    "    return im_v\n",
    "\n",
    "#グラフ保存\n",
    "def save_image(im, path):\n",
    "    cv2.imwrite(path, im)\n"
   ]
  },
  {
   "cell_type": "code",
   "execution_count": 33,
   "metadata": {},
   "outputs": [],
   "source": [
    "#全ての１０分～９０分間隔の図を横に繋げる\n",
    "# %matplotlib inline\n",
    "def multi_concat(arbitrary_name_of_scatter_graphs):\n",
    "    \"\"\"\n",
    "    scatter_graphs_name:concatnateしたいグラフの名前（パスではない＆.pngはいらない）\n",
    "    \n",
    "    １つずつ'./scatter_graphs/concat/'からscatter_graphs_nameで指定したグラフを読み込み、\n",
    "    concatnateして繋げていく。\n",
    "    毎回'./scatter_graphs/concat/multi_concat/'に保存して、それを読み込み、さらにそこに追加していく、\n",
    "    という方法をとった。\n",
    "    もっといい方法があれば教えてほしい。\n",
    "    \n",
    "    \"\"\"\n",
    "\n",
    "    GRAPH_CONCAT_DIR = './scatter_graphs/concat/'\n",
    "    SAVE_DIR = './scatter_graphs/concat/multi_concat/'\n",
    "\n",
    "    # for i, name in enumerate(scatter_graphs_name[1:],1):\n",
    "    for i, name in enumerate(arbitrary_name_of_scatter_graphs):\n",
    "        if i == 0:\n",
    "            name_add = name\n",
    "            path = GRAPH_CONCAT_DIR + name_add + '.png'\n",
    "            im = cv2.imread(path)\n",
    "            save_name_with_path = SAVE_DIR + '{}.png'.format(i) + '.png'\n",
    "            save_image(im, save_name_with_path)\n",
    "        else:\n",
    "            name_add = name\n",
    "            path_added = SAVE_DIR + '{}.png'.format(i-1) + '.png'\n",
    "            path_add = GRAPH_CONCAT_DIR + name_add + '.png'\n",
    "            im = concat_add(path_added, path_add)\n",
    "\n",
    "    #     save_image(im, SAVE_DIR + name_added + name_add + '.png')\n",
    "            save_name_with_path = SAVE_DIR + '{}.png'.format(i) + '.png'\n",
    "            save_image(im, save_name_with_path)"
   ]
  },
  {
   "cell_type": "code",
   "execution_count": null,
   "metadata": {},
   "outputs": [],
   "source": [
    "##すべてのグラフを繋げる。まあまあ時間がかかる。もう作ったので再度する必要はないが、\n",
    "##グラフの詳細を変えたときにもう一度実行するべき\n",
    "##multi_concat(scatter_graphs_name)"
   ]
  },
  {
   "cell_type": "code",
   "execution_count": null,
   "metadata": {},
   "outputs": [],
   "source": []
  },
  {
   "cell_type": "code",
   "execution_count": 57,
   "metadata": {},
   "outputs": [
    {
     "name": "stdout",
     "output_type": "stream",
     "text": [
      "['C_Tot(1)', 'C_Tot(10)', 'C_Tot(2)', 'C_Tot(3)', 'C_Tot(4)', 'C_Tot(5)', 'C_Tot(6)', 'C_Tot(7)', 'C_Tot(8)', 'C_Tot(9)']\n"
     ]
    }
   ],
   "source": [
    "arbitrary_columns = [i[0:-4] for i in os.listdir(GRAPH_DIR) if 'C_Tot' in i]\n",
    "#ほかに条件があれば以下を使う\n",
    "# arbitrary_columns = [i for i in arbitrary_columns if not 'V' in i]\n",
    "# arbitrary_columns = [i for i in arbitrary_columns if not 'R' in i]\n",
    "# arbitrary_columns = [i for i in arbitrary_columns if not 'L' in i]\n",
    "\n",
    "print(arbitrary_columns)"
   ]
  },
  {
   "cell_type": "code",
   "execution_count": 58,
   "metadata": {},
   "outputs": [],
   "source": [
    "multi_concat(arbitrary_columns)"
   ]
  },
  {
   "cell_type": "code",
   "execution_count": 26,
   "metadata": {},
   "outputs": [],
   "source": [
    "# %matplotlib inline\n",
    "GRAPH_CONCAT_DIR = './scatter_graphs/concat/'\n",
    "SAVE_DIR = './scatter_graphs/concat/multi_concat/'\n",
    "\n",
    "name_added = 'Bat_Avg'\n",
    "name_add = 'Bat_Avg'\n",
    "\n",
    "path_added = GRAPH_CONCAT_DIR + name_added + '.png'\n",
    "path_add = GRAPH_CONCAT_DIR + name_add + '.png'\n",
    "\n",
    "im = concat_add(path_added, path_add)\n",
    "# cv2.imshow(\"\",im)\n",
    "save_image(im, SAVE_DIR + name_added + name_add + '.png')"
   ]
  },
  {
   "cell_type": "code",
   "execution_count": 95,
   "metadata": {},
   "outputs": [
    {
     "data": {
      "text/plain": [
       "<matplotlib.image.AxesImage at 0x181a38e5978>"
      ]
     },
     "execution_count": 95,
     "metadata": {},
     "output_type": "execute_result"
    },
    {
     "data": {
      "image/png": "[encoded data removed]",
      "text/plain": [
       "<Figure size 432x288 with 1 Axes>"
      ]
     },
     "metadata": {
      "needs_background": "light"
     },
     "output_type": "display_data"
    }
   ],
   "source": [
    "# %matplotlib inline\n",
    "\n",
    "plt.imshow(im_v)"
   ]
  },
  {
   "cell_type": "code",
   "execution_count": null,
   "metadata": {},
   "outputs": [],
   "source": []
  }
 ],
 "metadata": {
  "kernelspec": {
   "display_name": "Python 3",
   "language": "python",
   "name": "python3"
  },
  "language_info": {
   "codemirror_mode": {
    "name": "ipython",
    "version": 3
   },
   "file_extension": ".py",
   "mimetype": "text/x-python",
   "name": "python",
   "nbconvert_exporter": "python",
   "pygments_lexer": "ipython3",
   "version": "3.7.3"
  }
 },
 "nbformat": 4,
 "nbformat_minor": 2
}
